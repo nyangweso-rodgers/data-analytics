{
 "cells": [
  {
   "cell_type": "markdown",
   "metadata": {},
   "source": [
    "# Turing Analytics"
   ]
  },
  {
   "cell_type": "markdown",
   "metadata": {},
   "source": [
    "## Import required modules"
   ]
  },
  {
   "cell_type": "code",
   "execution_count": 87,
   "metadata": {},
   "outputs": [],
   "source": [
    "# import required modules\n",
    "import pandas as pd\n",
    "import seaborn as sns\n",
    "import matplotlib.pyplot as plt\n",
    "import numpy as np\n",
    "from scipy.optimize import curve_fit\n",
    "from sklearn.metrics import precision_score, recall_score, f1_score, precision_recall_fscore_support"
   ]
  },
  {
   "cell_type": "markdown",
   "metadata": {},
   "source": [
    "## Load and view datasets"
   ]
  },
  {
   "cell_type": "code",
   "execution_count": 18,
   "metadata": {},
   "outputs": [
    {
     "name": "stdout",
     "output_type": "stream",
     "text": [
      "Head of cardio_alco: \n",
      "   id  alco\n",
      "0  44     0\n",
      "1  45     0\n",
      "2  46     0\n",
      "3  47     0\n",
      "4  49     0\n"
     ]
    }
   ],
   "source": [
    "# Load datasets\n",
    "cardio_alco_df = pd.read_csv('./cardio_alco.csv', delimiter=';')\n",
    "# you can save the data into a new csv file\n",
    "cardio_alco_df.to_csv(\"cardio_alco_df_v2.csv\", index=False)\n",
    "\n",
    "# output dataframes\n",
    "print('Head of cardio_alco: ')\n",
    "print(cardio_alco_df.head())"
   ]
  },
  {
   "cell_type": "markdown",
   "metadata": {},
   "source": [
    "## Task 1\n",
    "- __Question 1__: How much heavier is the group age with the highest average weight than the age group with the lowest weight?"
   ]
  },
  {
   "cell_type": "code",
   "execution_count": 5,
   "metadata": {},
   "outputs": [
    {
     "data": {
      "text/html": [
       "<div>\n",
       "<style scoped>\n",
       "    .dataframe tbody tr th:only-of-type {\n",
       "        vertical-align: middle;\n",
       "    }\n",
       "\n",
       "    .dataframe tbody tr th {\n",
       "        vertical-align: top;\n",
       "    }\n",
       "\n",
       "    .dataframe thead th {\n",
       "        text-align: right;\n",
       "    }\n",
       "</style>\n",
       "<table border=\"1\" class=\"dataframe\">\n",
       "  <thead>\n",
       "    <tr style=\"text-align: right;\">\n",
       "      <th></th>\n",
       "      <th>id</th>\n",
       "      <th>age</th>\n",
       "      <th>gender</th>\n",
       "      <th>height</th>\n",
       "      <th>weight</th>\n",
       "      <th>ap_hi</th>\n",
       "      <th>ap_lo</th>\n",
       "      <th>cholesterol</th>\n",
       "      <th>smoke</th>\n",
       "    </tr>\n",
       "  </thead>\n",
       "  <tbody>\n",
       "    <tr>\n",
       "      <th>0</th>\n",
       "      <td>0</td>\n",
       "      <td>18393</td>\n",
       "      <td>2</td>\n",
       "      <td>168</td>\n",
       "      <td>62.0</td>\n",
       "      <td>110</td>\n",
       "      <td>80</td>\n",
       "      <td>1</td>\n",
       "      <td>0</td>\n",
       "    </tr>\n",
       "    <tr>\n",
       "      <th>1</th>\n",
       "      <td>1</td>\n",
       "      <td>20228</td>\n",
       "      <td>1</td>\n",
       "      <td>156</td>\n",
       "      <td>85.0</td>\n",
       "      <td>140</td>\n",
       "      <td>90</td>\n",
       "      <td>3</td>\n",
       "      <td>0</td>\n",
       "    </tr>\n",
       "    <tr>\n",
       "      <th>2</th>\n",
       "      <td>2</td>\n",
       "      <td>18857</td>\n",
       "      <td>1</td>\n",
       "      <td>165</td>\n",
       "      <td>64.0</td>\n",
       "      <td>130</td>\n",
       "      <td>70</td>\n",
       "      <td>3</td>\n",
       "      <td>0</td>\n",
       "    </tr>\n",
       "    <tr>\n",
       "      <th>3</th>\n",
       "      <td>3</td>\n",
       "      <td>17623</td>\n",
       "      <td>2</td>\n",
       "      <td>169</td>\n",
       "      <td>82.0</td>\n",
       "      <td>150</td>\n",
       "      <td>100</td>\n",
       "      <td>1</td>\n",
       "      <td>0</td>\n",
       "    </tr>\n",
       "    <tr>\n",
       "      <th>4</th>\n",
       "      <td>4</td>\n",
       "      <td>17474</td>\n",
       "      <td>1</td>\n",
       "      <td>156</td>\n",
       "      <td>56.0</td>\n",
       "      <td>100</td>\n",
       "      <td>60</td>\n",
       "      <td>1</td>\n",
       "      <td>0</td>\n",
       "    </tr>\n",
       "  </tbody>\n",
       "</table>\n",
       "</div>"
      ],
      "text/plain": [
       "   id    age  gender  height  weight  ap_hi  ap_lo  cholesterol  smoke\n",
       "0   0  18393       2     168    62.0    110     80            1      0\n",
       "1   1  20228       1     156    85.0    140     90            3      0\n",
       "2   2  18857       1     165    64.0    130     70            3      0\n",
       "3   3  17623       2     169    82.0    150    100            1      0\n",
       "4   4  17474       1     156    56.0    100     60            1      0"
      ]
     },
     "execution_count": 5,
     "metadata": {},
     "output_type": "execute_result"
    }
   ],
   "source": [
    "# load the cardio_base.csv file\n",
    "cardio_base_df = pd.read_csv('./cardio_base.csv')\n",
    "cardio_base_df.head()"
   ]
  },
  {
   "cell_type": "code",
   "execution_count": 9,
   "metadata": {},
   "outputs": [
    {
     "name": "stdout",
     "output_type": "stream",
     "text": [
      "The age group with the highest average weight is 15086 years old with an average weight of 165.00 kg.\n",
      "The age group with the lowest average weight is 21582 years old with an average weight of 11.00 kg.\n",
      "The difference in average weight is 154.00 kg.\n",
      "The percentage difference in average weight is 1400.00%.\n"
     ]
    }
   ],
   "source": [
    "# Assuming 'age' and 'weight' are columns in your DataFrame\n",
    "age_column = 'age'\n",
    "weight_column = 'weight'\n",
    "\n",
    "# Calculate the average weight for each age group\n",
    "average_weight_by_age = cardio_base_df.groupby(age_column)[weight_column].mean()\n",
    "\n",
    "# Find the age group with the highest average weight\n",
    "max_avg_weight_age = average_weight_by_age.idxmax()\n",
    "max_avg_weight = average_weight_by_age.max()\n",
    "\n",
    "# Find the age group with the lowest weight\n",
    "min_avg_weight_age = average_weight_by_age.idxmin()\n",
    "min_avg_weight = average_weight_by_age.min()\n",
    "\n",
    "# Calculate the difference in average weight\n",
    "weight_difference = max_avg_weight - min_avg_weight\n",
    "\n",
    "# Calculate the percentage difference\n",
    "percentage_difference = (weight_difference / min_avg_weight) * 100\n",
    "\n",
    "# Print the results\n",
    "print(f\"The age group with the highest average weight is {max_avg_weight_age} years old \"\n",
    "      f\"with an average weight of {max_avg_weight:.2f} kg.\")\n",
    "print(f\"The age group with the lowest average weight is {min_avg_weight_age} years old \"\n",
    "      f\"with an average weight of {min_avg_weight:.2f} kg.\")\n",
    "print(f\"The difference in average weight is {weight_difference:.2f} kg.\")\n",
    "print(f\"The percentage difference in average weight is {percentage_difference:.2f}%.\")"
   ]
  },
  {
   "cell_type": "markdown",
   "metadata": {},
   "source": [
    "## Task 2\n",
    "- __Question 2__: How tall are the tallest 1% of people"
   ]
  },
  {
   "cell_type": "code",
   "execution_count": 10,
   "metadata": {},
   "outputs": [
    {
     "name": "stdout",
     "output_type": "stream",
     "text": [
      "The height of the tallest 1% of people is:\n",
      "6486     250\n",
      "21628    207\n",
      "41901    200\n",
      "8897     198\n",
      "30127    198\n",
      "        ... \n",
      "21182    184\n",
      "59359    184\n",
      "37162    184\n",
      "69375    184\n",
      "2862     184\n",
      "Name: height, Length: 700, dtype: int64\n"
     ]
    }
   ],
   "source": [
    "height_column = 'height'\n",
    "\n",
    "# Sort the DataFrame by height in descending order\n",
    "sorted_df = cardio_base_df.sort_values(by=height_column, ascending=False)\n",
    "\n",
    "# Calculate the number of rows corresponding to the top 1% of people\n",
    "total_rows = cardio_base_df.shape[0]\n",
    "top_1_percent_rows = int(0.01 * total_rows)\n",
    "\n",
    "# Extract the height of the tallest 1% of people\n",
    "tallest_1_percent_heights = sorted_df.head(top_1_percent_rows)[height_column]\n",
    "\n",
    "# Print the result\n",
    "print(f\"The height of the tallest 1% of people is:\")\n",
    "print(tallest_1_percent_heights)"
   ]
  },
  {
   "cell_type": "markdown",
   "metadata": {},
   "source": [
    "### Qn. 2: Answer\n",
    "They are taller than 184cm"
   ]
  },
  {
   "cell_type": "markdown",
   "metadata": {},
   "source": [
    "### Task 3\n",
    "- __Question 3__: What percentage of people are more than 2 standard deviations far from the average height?"
   ]
  },
  {
   "cell_type": "code",
   "execution_count": 12,
   "metadata": {},
   "outputs": [
    {
     "name": "stdout",
     "output_type": "stream",
     "text": [
      "The percentage of people more than 2 standard deviations away from the average height is: 3.34%.\n"
     ]
    }
   ],
   "source": [
    "height_column = 'height'\n",
    "\n",
    "# Calculate the mean and standard deviation of the height\n",
    "average_height = cardio_base_df[height_column].mean()\n",
    "std_deviation = cardio_base_df[height_column].std()\n",
    "\n",
    "# Identify people more than 2 standard deviations away from the mean\n",
    "threshold = 2 * std_deviation\n",
    "outliers = cardio_base_df[(cardio_base_df[height_column] > average_height + threshold) | \n",
    "                           (cardio_base_df[height_column] < average_height - threshold)]\n",
    "\n",
    "# Calculate the percentage of outliers\n",
    "percentage_outliers = (len(outliers) / len(cardio_base_df)) * 100\n",
    "\n",
    "# Print the result\n",
    "print(f\"The percentage of people more than 2 standard deviations away from the average height is: {percentage_outliers:.2f}%.\")"
   ]
  },
  {
   "cell_type": "markdown",
   "metadata": {},
   "source": [
    "### Task 4\n",
    "- __Question 4__: What percentage of population over 50 years old consume alcohol?\n",
    "- __Remark__: Also, use the `cardio_alco.csv` file and merge the datasets on `ID`. Ignore those persons who have no alcohol consumption Information!"
   ]
  },
  {
   "cell_type": "code",
   "execution_count": 14,
   "metadata": {},
   "outputs": [
    {
     "name": "stdout",
     "output_type": "stream",
     "text": [
      "Percentage of population over 50 years old who consume alcohol: 5.34%\n"
     ]
    }
   ],
   "source": [
    "# Perform left join and select specific columns\n",
    "result_df = pd.merge(cardio_alco_df[['id', 'alco']], cardio_base_df[['id', 'age']], on='id', how='left')\n",
    "result_df.head()\n",
    "\n",
    "# Calculate the percentage of the population over 50 years old who consume alcohol\n",
    "over_50_alcohol_consumers = result_df[(result_df['age'] > 50) & (result_df['alco'] == 1)]\n",
    "total_over_50_population = result_df[result_df['age'] > 50]\n",
    "\n",
    "percentage_over_50_alcohol_consumers = (len(over_50_alcohol_consumers) / len(total_over_50_population)) * 100\n",
    "\n",
    "print(f\"Percentage of population over 50 years old who consume alcohol: {percentage_over_50_alcohol_consumers:.2f}%\")"
   ]
  },
  {
   "cell_type": "markdown",
   "metadata": {},
   "source": [
    "### Task 5\n",
    "- Which of the following statements is true with 95% confidence?\n",
    "    1. Smokers weight less than non-smokers?\n",
    "    2. Men have higher blood pressure than women?\n",
    "    3. Smokers have higher cholesterol level than non-smokers?\n",
    "    4. Smokers have higher blood pressure than non-smokers?"
   ]
  },
  {
   "cell_type": "code",
   "execution_count": 15,
   "metadata": {},
   "outputs": [
    {
     "name": "stdout",
     "output_type": "stream",
     "text": [
      "smoke\n",
      "0    73.902352\n",
      "1    77.344351\n",
      "Name: weight, dtype: float64\n"
     ]
    }
   ],
   "source": [
    "## compare the weights of smokers and non-smokers\n",
    "# Group by the 'smoke' field and calculate the mean weight for each group\n",
    "average_weight_by_smoke = cardio_base_df.groupby('smoke')['weight'].mean()\n",
    "\n",
    "# Display the result\n",
    "print(average_weight_by_smoke)"
   ]
  },
  {
   "cell_type": "code",
   "execution_count": 16,
   "metadata": {},
   "outputs": [
    {
     "name": "stdout",
     "output_type": "stream",
     "text": [
      "smoke\n",
      "0    1.364682\n",
      "1    1.389528\n",
      "Name: cholesterol, dtype: float64\n"
     ]
    }
   ],
   "source": [
    "##  compare the average cholesterol levels of smokers and non-smokers\n",
    "# Group by the 'smoke' field and calculate the mean cholesterol for each group\n",
    "average_cholesterol_by_smoke = cardio_base_df.groupby('smoke')['cholesterol'].mean()\n",
    "\n",
    "# Display the result\n",
    "print(average_cholesterol_by_smoke)"
   ]
  },
  {
   "cell_type": "markdown",
   "metadata": {},
   "source": [
    "### Task 6\n",
    "- Second dataset, Covid19 cases.\n",
    "- This datasetcontains daily covid19 cases for all countries in the world. Each row represents a calendar day. Rows also conntain simple Information about the countries, like\n",
    "  1. population\n",
    "  2. percentage of population over 65\n",
    "  3. GDP, and\n",
    "  4. hospital beds per thousand inhabitants.\n",
    "- Use the dataset to answer the following questions:\n",
    "  - **Question 6**\n",
    "    - When did the difference in the total number of confirmed cases between Italy and Germany become more than 10,000?"
   ]
  },
  {
   "cell_type": "code",
   "execution_count": 19,
   "metadata": {},
   "outputs": [
    {
     "data": {
      "text/html": [
       "<div>\n",
       "<style scoped>\n",
       "    .dataframe tbody tr th:only-of-type {\n",
       "        vertical-align: middle;\n",
       "    }\n",
       "\n",
       "    .dataframe tbody tr th {\n",
       "        vertical-align: top;\n",
       "    }\n",
       "\n",
       "    .dataframe thead th {\n",
       "        text-align: right;\n",
       "    }\n",
       "</style>\n",
       "<table border=\"1\" class=\"dataframe\">\n",
       "  <thead>\n",
       "    <tr style=\"text-align: right;\">\n",
       "      <th></th>\n",
       "      <th>location</th>\n",
       "      <th>date</th>\n",
       "      <th>new_cases</th>\n",
       "      <th>new_deaths</th>\n",
       "      <th>population</th>\n",
       "      <th>aged_65_older_percent</th>\n",
       "      <th>gdp_per_capita</th>\n",
       "      <th>hospital_beds_per_thousand</th>\n",
       "    </tr>\n",
       "  </thead>\n",
       "  <tbody>\n",
       "    <tr>\n",
       "      <th>0</th>\n",
       "      <td>Afghanistan</td>\n",
       "      <td>2019-12-31</td>\n",
       "      <td>0</td>\n",
       "      <td>0</td>\n",
       "      <td>38928341.0</td>\n",
       "      <td>2.581</td>\n",
       "      <td>1803.987</td>\n",
       "      <td>0.5</td>\n",
       "    </tr>\n",
       "    <tr>\n",
       "      <th>1</th>\n",
       "      <td>Afghanistan</td>\n",
       "      <td>2020-01-01</td>\n",
       "      <td>0</td>\n",
       "      <td>0</td>\n",
       "      <td>38928341.0</td>\n",
       "      <td>2.581</td>\n",
       "      <td>1803.987</td>\n",
       "      <td>0.5</td>\n",
       "    </tr>\n",
       "    <tr>\n",
       "      <th>2</th>\n",
       "      <td>Afghanistan</td>\n",
       "      <td>2020-01-02</td>\n",
       "      <td>0</td>\n",
       "      <td>0</td>\n",
       "      <td>38928341.0</td>\n",
       "      <td>2.581</td>\n",
       "      <td>1803.987</td>\n",
       "      <td>0.5</td>\n",
       "    </tr>\n",
       "    <tr>\n",
       "      <th>3</th>\n",
       "      <td>Afghanistan</td>\n",
       "      <td>2020-01-03</td>\n",
       "      <td>0</td>\n",
       "      <td>0</td>\n",
       "      <td>38928341.0</td>\n",
       "      <td>2.581</td>\n",
       "      <td>1803.987</td>\n",
       "      <td>0.5</td>\n",
       "    </tr>\n",
       "    <tr>\n",
       "      <th>4</th>\n",
       "      <td>Afghanistan</td>\n",
       "      <td>2020-01-04</td>\n",
       "      <td>0</td>\n",
       "      <td>0</td>\n",
       "      <td>38928341.0</td>\n",
       "      <td>2.581</td>\n",
       "      <td>1803.987</td>\n",
       "      <td>0.5</td>\n",
       "    </tr>\n",
       "  </tbody>\n",
       "</table>\n",
       "</div>"
      ],
      "text/plain": [
       "      location       date  new_cases  new_deaths  population  \\\n",
       "0  Afghanistan 2019-12-31          0           0  38928341.0   \n",
       "1  Afghanistan 2020-01-01          0           0  38928341.0   \n",
       "2  Afghanistan 2020-01-02          0           0  38928341.0   \n",
       "3  Afghanistan 2020-01-03          0           0  38928341.0   \n",
       "4  Afghanistan 2020-01-04          0           0  38928341.0   \n",
       "\n",
       "   aged_65_older_percent  gdp_per_capita  hospital_beds_per_thousand  \n",
       "0                  2.581        1803.987                         0.5  \n",
       "1                  2.581        1803.987                         0.5  \n",
       "2                  2.581        1803.987                         0.5  \n",
       "3                  2.581        1803.987                         0.5  \n",
       "4                  2.581        1803.987                         0.5  "
      ]
     },
     "execution_count": 19,
     "metadata": {},
     "output_type": "execute_result"
    }
   ],
   "source": [
    "# Read the dataset\n",
    "covid_data_df = pd.read_csv('./covid_data.csv', parse_dates=['date'])\n",
    "covid_data_df.head()"
   ]
  },
  {
   "cell_type": "code",
   "execution_count": 51,
   "metadata": {},
   "outputs": [
    {
     "data": {
      "text/html": [
       "<div>\n",
       "<style scoped>\n",
       "    .dataframe tbody tr th:only-of-type {\n",
       "        vertical-align: middle;\n",
       "    }\n",
       "\n",
       "    .dataframe tbody tr th {\n",
       "        vertical-align: top;\n",
       "    }\n",
       "\n",
       "    .dataframe thead th {\n",
       "        text-align: right;\n",
       "    }\n",
       "</style>\n",
       "<table border=\"1\" class=\"dataframe\">\n",
       "  <thead>\n",
       "    <tr style=\"text-align: right;\">\n",
       "      <th></th>\n",
       "      <th>location</th>\n",
       "      <th>date</th>\n",
       "      <th>new_cases</th>\n",
       "      <th>new_deaths</th>\n",
       "      <th>population</th>\n",
       "      <th>aged_65_older_percent</th>\n",
       "      <th>gdp_per_capita</th>\n",
       "      <th>hospital_beds_per_thousand</th>\n",
       "      <th>cumulative_new_cases</th>\n",
       "    </tr>\n",
       "  </thead>\n",
       "  <tbody>\n",
       "    <tr>\n",
       "      <th>0</th>\n",
       "      <td>Afghanistan</td>\n",
       "      <td>2019-12-31</td>\n",
       "      <td>0</td>\n",
       "      <td>0</td>\n",
       "      <td>38928341.0</td>\n",
       "      <td>2.581</td>\n",
       "      <td>1803.987</td>\n",
       "      <td>0.5</td>\n",
       "      <td>0</td>\n",
       "    </tr>\n",
       "    <tr>\n",
       "      <th>1</th>\n",
       "      <td>Afghanistan</td>\n",
       "      <td>2020-01-01</td>\n",
       "      <td>0</td>\n",
       "      <td>0</td>\n",
       "      <td>38928341.0</td>\n",
       "      <td>2.581</td>\n",
       "      <td>1803.987</td>\n",
       "      <td>0.5</td>\n",
       "      <td>0</td>\n",
       "    </tr>\n",
       "    <tr>\n",
       "      <th>2</th>\n",
       "      <td>Afghanistan</td>\n",
       "      <td>2020-01-02</td>\n",
       "      <td>0</td>\n",
       "      <td>0</td>\n",
       "      <td>38928341.0</td>\n",
       "      <td>2.581</td>\n",
       "      <td>1803.987</td>\n",
       "      <td>0.5</td>\n",
       "      <td>0</td>\n",
       "    </tr>\n",
       "    <tr>\n",
       "      <th>3</th>\n",
       "      <td>Afghanistan</td>\n",
       "      <td>2020-01-03</td>\n",
       "      <td>0</td>\n",
       "      <td>0</td>\n",
       "      <td>38928341.0</td>\n",
       "      <td>2.581</td>\n",
       "      <td>1803.987</td>\n",
       "      <td>0.5</td>\n",
       "      <td>0</td>\n",
       "    </tr>\n",
       "    <tr>\n",
       "      <th>4</th>\n",
       "      <td>Afghanistan</td>\n",
       "      <td>2020-01-04</td>\n",
       "      <td>0</td>\n",
       "      <td>0</td>\n",
       "      <td>38928341.0</td>\n",
       "      <td>2.581</td>\n",
       "      <td>1803.987</td>\n",
       "      <td>0.5</td>\n",
       "      <td>0</td>\n",
       "    </tr>\n",
       "  </tbody>\n",
       "</table>\n",
       "</div>"
      ],
      "text/plain": [
       "      location       date  new_cases  new_deaths  population  \\\n",
       "0  Afghanistan 2019-12-31          0           0  38928341.0   \n",
       "1  Afghanistan 2020-01-01          0           0  38928341.0   \n",
       "2  Afghanistan 2020-01-02          0           0  38928341.0   \n",
       "3  Afghanistan 2020-01-03          0           0  38928341.0   \n",
       "4  Afghanistan 2020-01-04          0           0  38928341.0   \n",
       "\n",
       "   aged_65_older_percent  gdp_per_capita  hospital_beds_per_thousand  \\\n",
       "0                  2.581        1803.987                         0.5   \n",
       "1                  2.581        1803.987                         0.5   \n",
       "2                  2.581        1803.987                         0.5   \n",
       "3                  2.581        1803.987                         0.5   \n",
       "4                  2.581        1803.987                         0.5   \n",
       "\n",
       "   cumulative_new_cases  \n",
       "0                     0  \n",
       "1                     0  \n",
       "2                     0  \n",
       "3                     0  \n",
       "4                     0  "
      ]
     },
     "execution_count": 51,
     "metadata": {},
     "output_type": "execute_result"
    }
   ],
   "source": [
    "# calculate the cumulative sum of `new_cases` per location and `date` in ascending order\n",
    "covid_data_df['cumulative_new_cases'] = covid_data_df.sort_values(['location', 'date']).groupby('location')['new_cases'].cumsum()\n",
    "\n",
    "# Sort the DataFrame by 'location' and 'date'\n",
    "covid_data_df = covid_data_df.sort_values(['location', 'date'])\n",
    "covid_data_df.head()"
   ]
  },
  {
   "cell_type": "code",
   "execution_count": 70,
   "metadata": {},
   "outputs": [
    {
     "data": {
      "text/html": [
       "<div>\n",
       "<style scoped>\n",
       "    .dataframe tbody tr th:only-of-type {\n",
       "        vertical-align: middle;\n",
       "    }\n",
       "\n",
       "    .dataframe tbody tr th {\n",
       "        vertical-align: top;\n",
       "    }\n",
       "\n",
       "    .dataframe thead th {\n",
       "        text-align: right;\n",
       "    }\n",
       "</style>\n",
       "<table border=\"1\" class=\"dataframe\">\n",
       "  <thead>\n",
       "    <tr style=\"text-align: right;\">\n",
       "      <th></th>\n",
       "      <th>date</th>\n",
       "      <th>cumulative_new_cases_Italy</th>\n",
       "      <th>cumulative_new_cases_Germany</th>\n",
       "      <th>cumulative_cases_difference</th>\n",
       "    </tr>\n",
       "  </thead>\n",
       "  <tbody>\n",
       "    <tr>\n",
       "      <th>0</th>\n",
       "      <td>2019-12-31</td>\n",
       "      <td>0</td>\n",
       "      <td>0</td>\n",
       "      <td>0</td>\n",
       "    </tr>\n",
       "    <tr>\n",
       "      <th>1</th>\n",
       "      <td>2020-01-01</td>\n",
       "      <td>0</td>\n",
       "      <td>0</td>\n",
       "      <td>0</td>\n",
       "    </tr>\n",
       "    <tr>\n",
       "      <th>2</th>\n",
       "      <td>2020-01-02</td>\n",
       "      <td>0</td>\n",
       "      <td>0</td>\n",
       "      <td>0</td>\n",
       "    </tr>\n",
       "    <tr>\n",
       "      <th>3</th>\n",
       "      <td>2020-01-03</td>\n",
       "      <td>0</td>\n",
       "      <td>0</td>\n",
       "      <td>0</td>\n",
       "    </tr>\n",
       "    <tr>\n",
       "      <th>4</th>\n",
       "      <td>2020-01-04</td>\n",
       "      <td>0</td>\n",
       "      <td>0</td>\n",
       "      <td>0</td>\n",
       "    </tr>\n",
       "  </tbody>\n",
       "</table>\n",
       "</div>"
      ],
      "text/plain": [
       "        date  cumulative_new_cases_Italy  cumulative_new_cases_Germany  \\\n",
       "0 2019-12-31                           0                             0   \n",
       "1 2020-01-01                           0                             0   \n",
       "2 2020-01-02                           0                             0   \n",
       "3 2020-01-03                           0                             0   \n",
       "4 2020-01-04                           0                             0   \n",
       "\n",
       "   cumulative_cases_difference  \n",
       "0                            0  \n",
       "1                            0  \n",
       "2                            0  \n",
       "3                            0  \n",
       "4                            0  "
      ]
     },
     "execution_count": 70,
     "metadata": {},
     "output_type": "execute_result"
    }
   ],
   "source": [
    "# Filter rows for Italy and Germany\n",
    "italy_df = covid_data_df[covid_data_df['location'] == 'Italy'].reset_index(drop=True)  # create a new DataFrame\n",
    "germany_df = covid_data_df[covid_data_df['location'] == 'Germany'].reset_index(drop=True) # create a new DataFrame\n",
    "\n",
    "date_column = 'date'\n",
    "new_cases_italy_column = 'cumulative_new_cases'  # Change to the actual column name in italy_df\n",
    "new_cases_germany_column = 'cumulative_new_cases'  # Change to the actual column name in germany_df\n",
    "\n",
    "# Merge the two DataFrames on the 'date' column\n",
    "merged_df = pd.merge(italy_df, germany_df, on=date_column, how='inner', suffixes=('_Italy', '_Germany'))\n",
    "\n",
    "# Select specific columns from the merged DataFrame\n",
    "selected_columns = merged_df[['date', 'cumulative_new_cases_Italy', 'cumulative_new_cases_Germany']]\n",
    "\n",
    "# Create a new DataFrame with selected columns\n",
    "selected_columns = merged_df[['date', 'cumulative_new_cases_Italy', 'cumulative_new_cases_Germany']].copy()\n",
    "selected_columns.loc[:, 'cumulative_cases_difference'] = (selected_columns['cumulative_new_cases_Italy'] - selected_columns['cumulative_new_cases_Germany']).abs()\n",
    "# preview the new dataframe\n",
    "selected_columns.head()\n"
   ]
  },
  {
   "cell_type": "code",
   "execution_count": 80,
   "metadata": {},
   "outputs": [
    {
     "name": "stdout",
     "output_type": "stream",
     "text": [
      "The date when the difference in the total number of confirmed cases between Italy and Germany becomes more than 10,000 is: 2020-03-12 00:00:00\n"
     ]
    }
   ],
   "source": [
    "dates_difference_10k = selected_columns[selected_columns['cumulative_cases_difference'] > 10000]\n",
    "\n",
    "if not dates_difference_10k.empty:\n",
    "    # Find the date when the difference becomes more than 10,000\n",
    "    date_difference_10k = dates_difference_10k.loc[dates_difference_10k['cumulative_cases_difference'].idxmin(), 'date']\n",
    "    print(f\"The date when the difference in the total number of confirmed cases between Italy and Germany becomes more than 10,000 is: {date_difference_10k}\")\n",
    "else:\n",
    "    print(\"There is no date where the difference exceeds 10,000.\")"
   ]
  },
  {
   "cell_type": "markdown",
   "metadata": {},
   "source": [
    "### Task 7\n",
    "- **Question 7**\n",
    "  - Look at the cumulative number of confirmed cases in Italy between 2020-02-28 and 2020-03-20.\n",
    "  - Fit an exponential function (y=Ae^(Bx)) to this set to express cumulative cases a function of days passed, by minimizing squared loss.\n",
    "  - What is the difference between the exeponential curve and the total number of real cases on 2020-03-20"
   ]
  },
  {
   "cell_type": "markdown",
   "metadata": {},
   "source": [
    "- To fit an exponential function to the cumulative number of confirmed cases in Italy between 2020-02-28 and 2020-03-20, and to calculate the difference between the exponential curve and the total number of real cases on 2020-03-20, you can use the following steps in Python with the help of the scipy.optimize module for curve fitting:"
   ]
  },
  {
   "cell_type": "code",
   "execution_count": 81,
   "metadata": {},
   "outputs": [
    {
     "data": {
      "text/html": [
       "<div>\n",
       "<style scoped>\n",
       "    .dataframe tbody tr th:only-of-type {\n",
       "        vertical-align: middle;\n",
       "    }\n",
       "\n",
       "    .dataframe tbody tr th {\n",
       "        vertical-align: top;\n",
       "    }\n",
       "\n",
       "    .dataframe thead th {\n",
       "        text-align: right;\n",
       "    }\n",
       "</style>\n",
       "<table border=\"1\" class=\"dataframe\">\n",
       "  <thead>\n",
       "    <tr style=\"text-align: right;\">\n",
       "      <th></th>\n",
       "      <th>location</th>\n",
       "      <th>date</th>\n",
       "      <th>new_cases</th>\n",
       "      <th>new_deaths</th>\n",
       "      <th>population</th>\n",
       "      <th>aged_65_older_percent</th>\n",
       "      <th>gdp_per_capita</th>\n",
       "      <th>hospital_beds_per_thousand</th>\n",
       "      <th>cumulative_new_cases</th>\n",
       "    </tr>\n",
       "  </thead>\n",
       "  <tbody>\n",
       "    <tr>\n",
       "      <th>0</th>\n",
       "      <td>Afghanistan</td>\n",
       "      <td>2019-12-31</td>\n",
       "      <td>0</td>\n",
       "      <td>0</td>\n",
       "      <td>38928341.0</td>\n",
       "      <td>2.581</td>\n",
       "      <td>1803.987</td>\n",
       "      <td>0.5</td>\n",
       "      <td>0</td>\n",
       "    </tr>\n",
       "    <tr>\n",
       "      <th>1</th>\n",
       "      <td>Afghanistan</td>\n",
       "      <td>2020-01-01</td>\n",
       "      <td>0</td>\n",
       "      <td>0</td>\n",
       "      <td>38928341.0</td>\n",
       "      <td>2.581</td>\n",
       "      <td>1803.987</td>\n",
       "      <td>0.5</td>\n",
       "      <td>0</td>\n",
       "    </tr>\n",
       "    <tr>\n",
       "      <th>2</th>\n",
       "      <td>Afghanistan</td>\n",
       "      <td>2020-01-02</td>\n",
       "      <td>0</td>\n",
       "      <td>0</td>\n",
       "      <td>38928341.0</td>\n",
       "      <td>2.581</td>\n",
       "      <td>1803.987</td>\n",
       "      <td>0.5</td>\n",
       "      <td>0</td>\n",
       "    </tr>\n",
       "    <tr>\n",
       "      <th>3</th>\n",
       "      <td>Afghanistan</td>\n",
       "      <td>2020-01-03</td>\n",
       "      <td>0</td>\n",
       "      <td>0</td>\n",
       "      <td>38928341.0</td>\n",
       "      <td>2.581</td>\n",
       "      <td>1803.987</td>\n",
       "      <td>0.5</td>\n",
       "      <td>0</td>\n",
       "    </tr>\n",
       "    <tr>\n",
       "      <th>4</th>\n",
       "      <td>Afghanistan</td>\n",
       "      <td>2020-01-04</td>\n",
       "      <td>0</td>\n",
       "      <td>0</td>\n",
       "      <td>38928341.0</td>\n",
       "      <td>2.581</td>\n",
       "      <td>1803.987</td>\n",
       "      <td>0.5</td>\n",
       "      <td>0</td>\n",
       "    </tr>\n",
       "  </tbody>\n",
       "</table>\n",
       "</div>"
      ],
      "text/plain": [
       "      location       date  new_cases  new_deaths  population  \\\n",
       "0  Afghanistan 2019-12-31          0           0  38928341.0   \n",
       "1  Afghanistan 2020-01-01          0           0  38928341.0   \n",
       "2  Afghanistan 2020-01-02          0           0  38928341.0   \n",
       "3  Afghanistan 2020-01-03          0           0  38928341.0   \n",
       "4  Afghanistan 2020-01-04          0           0  38928341.0   \n",
       "\n",
       "   aged_65_older_percent  gdp_per_capita  hospital_beds_per_thousand  \\\n",
       "0                  2.581        1803.987                         0.5   \n",
       "1                  2.581        1803.987                         0.5   \n",
       "2                  2.581        1803.987                         0.5   \n",
       "3                  2.581        1803.987                         0.5   \n",
       "4                  2.581        1803.987                         0.5   \n",
       "\n",
       "   cumulative_new_cases  \n",
       "0                     0  \n",
       "1                     0  \n",
       "2                     0  \n",
       "3                     0  \n",
       "4                     0  "
      ]
     },
     "execution_count": 81,
     "metadata": {},
     "output_type": "execute_result"
    }
   ],
   "source": [
    "covid_data_df.head()"
   ]
  },
  {
   "cell_type": "code",
   "execution_count": 83,
   "metadata": {},
   "outputs": [
    {
     "data": {
      "image/png": "[encoded data removed]",
      "text/plain": [
       "<Figure size 640x480 with 1 Axes>"
      ]
     },
     "metadata": {},
     "output_type": "display_data"
    },
    {
     "name": "stdout",
     "output_type": "stream",
     "text": [
      "Difference between the exponential curve and real cases on 2020-03-20: 1573.5067847222672\n"
     ]
    }
   ],
   "source": [
    "italy_data = covid_data_df[(covid_data_df['location'] == 'Italy') & (covid_data_df['date'] >= '2020-02-28') & (covid_data_df['date'] <= '2020-03-20')]\n",
    "\n",
    "# Sort the data by date in ascending order\n",
    "italy_data = italy_data.sort_values('date')\n",
    "\n",
    "# Calculate the number of days passed between consecutive rows\n",
    "italy_data['days_passed'] = (italy_data['date'] - italy_data['date'].shift(1)).dt.days.fillna(0)\n",
    "\n",
    "# Extracting relevant data for curve fitting\n",
    "x_days = italy_data['days_passed'].cumsum().values\n",
    "y_cumulative_cases = italy_data['cumulative_new_cases'].values\n",
    "\n",
    "# Define the exponential function\n",
    "def exponential_func(x, A, B):\n",
    "    return A * np.exp(B * x)\n",
    "\n",
    "# Fit the exponential function to the data\n",
    "params, covariance = curve_fit(exponential_func, x_days, y_cumulative_cases)\n",
    "\n",
    "# Calculate the fitted values using the obtained parameters\n",
    "y_fit = exponential_func(x_days, *params)\n",
    "\n",
    "# Plotting the data and the fitted exponential curve\n",
    "plt.plot(x_days, y_cumulative_cases, label='Real Cases')\n",
    "plt.plot(x_days, y_fit, label='Exponential Fit', linestyle='--')\n",
    "plt.xlabel('Days')\n",
    "plt.ylabel('Cumulative Cases')\n",
    "plt.legend()\n",
    "plt.show()\n",
    "\n",
    "# Calculate the difference between the exponential curve and the real cases on 2020-03-20\n",
    "day_2020_03_20 = (pd.to_datetime('2020-03-20') - pd.to_datetime('2020-02-28')).days\n",
    "real_cases_2020_03_20 = y_cumulative_cases[x_days == day_2020_03_20][0]\n",
    "exponential_curve_2020_03_20 = exponential_func(day_2020_03_20, *params)\n",
    "difference = exponential_curve_2020_03_20 - real_cases_2020_03_20\n",
    "\n",
    "print(f\"Difference between the exponential curve and real cases on 2020-03-20: {difference}\")"
   ]
  },
  {
   "cell_type": "markdown",
   "metadata": {},
   "source": [
    "### Task 8\n",
    "- **Question 8**\n",
    "  - Which country has the 3rd highest death rate?\n",
    "  - Death Rate = Total number of deaths per million inhabitants"
   ]
  },
  {
   "cell_type": "markdown",
   "metadata": {},
   "source": [
    "- To find the country with the third-highest death rate (calculated as the total number of deaths per million inhabitants), you can follow these steps:\n",
    "\n",
    "    - Calculate the total number of deaths per million inhabitants for each country.\n",
    "    - Sort the countries based on the death rate in descending order.\n",
    "    - Identify the country with the third-highest death rate."
   ]
  },
  {
   "cell_type": "code",
   "execution_count": 84,
   "metadata": {},
   "outputs": [
    {
     "name": "stdout",
     "output_type": "stream",
     "text": [
      "The country with the third-highest death rate is: Andorra\n"
     ]
    }
   ],
   "source": [
    "# Calculate the total number of deaths per million inhabitants\n",
    "covid_data_df['death_rate'] = (covid_data_df['new_deaths'] / covid_data_df['population']) * 1_000_000\n",
    "\n",
    "# Group by country and sum the death rates\n",
    "total_death_rate_by_country = covid_data_df.groupby('location')['death_rate'].sum()\n",
    "\n",
    "# Sort countries based on death rate in descending order\n",
    "sorted_countries = total_death_rate_by_country.sort_values(ascending=False)\n",
    "\n",
    "# Get the country with the third-highest death rate\n",
    "third_highest_country = sorted_countries.index[2]\n",
    "\n",
    "print(f\"The country with the third-highest death rate is: {third_highest_country}\")"
   ]
  },
  {
   "cell_type": "markdown",
   "metadata": {},
   "source": [
    "### Task 9\n",
    "\n",
    "- **Question 9**\n",
    "   - What is the F1 score of the following statements?\n",
    "   - Countries where more than 20% of the population is over 65 years old, have death rates over 50 per million inhabitants.\n",
    "   - Ignore countries where any of the necessary Information is missing."
   ]
  },
  {
   "cell_type": "markdown",
   "metadata": {},
   "source": [
    "- To calculate the F1 score for the statement provided, you need to consider the true positives (countries meeting the condition), false positives (countries incorrectly classified as meeting the condition), false negatives (countries meeting the condition but not classified as such), and true negatives (countries correctly classified as not meeting the condition). Given the statement:\n",
    "\n",
    "  - Statement: Countries where more than 20% of the population is over 65 years old have death rates over 50 per million inhabitants.\n",
    "  - You can create a binary classification based on this statement and compare it with the actual data. Here's an example code snippet in Python using scikit-learn:"
   ]
  },
  {
   "cell_type": "code",
   "execution_count": 93,
   "metadata": {},
   "outputs": [
    {
     "name": "stdout",
     "output_type": "stream",
     "text": [
      "Precision: 1.00\n",
      "Recall: 1.00\n",
      "F1 Score: 1.00\n"
     ]
    }
   ],
   "source": [
    "# Define a binary classification based on the statement\n",
    "covid_data_df['predicted_condition'] = (\n",
    "    (covid_data_df['aged_65_older_percent'] > 20) & \n",
    "    (covid_data_df['death_rate'] > 50)\n",
    ").astype(int)\n",
    "\n",
    "# Define the actual condition based on the statement\n",
    "covid_data_df['actual_condition'] = (\n",
    "    (covid_data_df['aged_65_older_percent'] > 20) & \n",
    "    (covid_data_df['death_rate'] > 50)\n",
    ").astype(int)\n",
    "\n",
    "# Calculate precision, recall, and F1 score with zero_division=1\n",
    "precision, recall, f1, _ = precision_recall_fscore_support(\n",
    "    covid_data_df['actual_condition'], \n",
    "    covid_data_df['predicted_condition'], \n",
    "    average='binary',\n",
    "    pos_label=1,  # Assuming the positive class is when the condition is met\n",
    "    zero_division=1\n",
    ")\n",
    "\n",
    "print(f\"Precision: {precision:.2f}\")\n",
    "print(f\"Recall: {recall:.2f}\")\n",
    "print(f\"F1 Score: {f1:.2f}\")"
   ]
  },
  {
   "cell_type": "markdown",
   "metadata": {},
   "source": [
    "### Task 10\n",
    "- __Question__:\n",
    "  - Calculate Spearman Rank correlation\n",
    "  - Identify two features with the highest spearman rank correlation"
   ]
  },
  {
   "cell_type": "code",
   "execution_count": 53,
   "metadata": {},
   "outputs": [
    {
     "name": "stdout",
     "output_type": "stream",
     "text": [
      "Spearman Rank Correlation:\n",
      "                   id       age    gender    height    weight     ap_hi  \\\n",
      "id           1.000000  0.002682  0.003506 -0.001886 -0.001292  0.003258   \n",
      "age          0.002682  1.000000 -0.020176 -0.082292  0.061559  0.219087   \n",
      "gender       0.003506 -0.020176  1.000000  0.533805  0.172480  0.063174   \n",
      "height      -0.001886 -0.082292  0.533805  1.000000  0.313569  0.019381   \n",
      "weight      -0.001292  0.061559  0.172480  0.313569  1.000000  0.277749   \n",
      "ap_hi        0.003258  0.219087  0.063174  0.019381  0.277749  1.000000   \n",
      "ap_lo       -0.000238  0.156700  0.066374  0.030534  0.254420  0.735436   \n",
      "cholesterol  0.005706  0.140113 -0.035730 -0.058940  0.137908  0.208722   \n",
      "smoke       -0.003697 -0.047471  0.338135  0.197632  0.071676  0.028929   \n",
      "\n",
      "                ap_lo  cholesterol     smoke  \n",
      "id          -0.000238     0.005706 -0.003697  \n",
      "age          0.156700     0.140113 -0.047471  \n",
      "gender       0.066374    -0.035730  0.338135  \n",
      "height       0.030534    -0.058940  0.197632  \n",
      "weight       0.254420     0.137908  0.071676  \n",
      "ap_hi        0.735436     0.208722  0.028929  \n",
      "ap_lo        1.000000     0.167401  0.026172  \n",
      "cholesterol  0.167401     1.000000  0.015220  \n",
      "smoke        0.026172     0.015220  1.000000  \n"
     ]
    }
   ],
   "source": [
    "# correlation coefficient\n",
    "cardio_base_corr = cardio_base_df.corr(method='spearman')\n",
    "# Print the result\n",
    "print(\"Spearman Rank Correlation:\")\n",
    "print(cardio_base_corr)"
   ]
  },
  {
   "cell_type": "code",
   "execution_count": 96,
   "metadata": {},
   "outputs": [
    {
     "data": {
      "image/png": "[encoded data removed]",
      "text/plain": [
       "<Figure size 800x600 with 2 Axes>"
      ]
     },
     "metadata": {},
     "output_type": "display_data"
    }
   ],
   "source": [
    "# Calculate Spearman rank correlation\n",
    "spearman_corr = cardio_base_df.corr(method='spearman')\n",
    "\n",
    "# Create a heatmap\n",
    "plt.figure(figsize=(8, 6))\n",
    "sns.heatmap(spearman_corr, annot=True, cmap='coolwarm', vmin=-1, vmax=1)\n",
    "plt.title('Spearman Rank Correlation Heatmap For Cardio Base')\n",
    "plt.show()"
   ]
  },
  {
   "cell_type": "markdown",
   "metadata": {},
   "source": [
    "### Task 11\n",
    "- Question 11:\n",
    "  - To calculate the probability that a country has a GDP of over $10,000 given that they have at least 5 hospital beds per 1000 inhabitants, you can use conditional probability. The conditional probability is calculated as the probability of the intersection of the two events divided by the probability of the condition."
   ]
  },
  {
   "cell_type": "code",
   "execution_count": 102,
   "metadata": {},
   "outputs": [
    {
     "name": "stdout",
     "output_type": "stream",
     "text": [
      "The probability of having GDP over $10,000 given at least 5 hospital beds per 1000 inhabitants is: 565.03%\n"
     ]
    }
   ],
   "source": [
    "# Define the condition\n",
    "condition = (covid_data_df['hospital_beds_per_thousand'] >= 5)\n",
    "\n",
    "# Calculate the probability of having at least 5 hospital beds\n",
    "prob_condition = condition.mean()\n",
    "\n",
    "# Calculate the probability of having GDP over $10,000 given the condition\n",
    "prob_gdp_given_condition = (covid_data_df[condition]['gdp_per_capita'] > 10000).mean()\n",
    "\n",
    "# Calculate the conditional probability\n",
    "conditional_probability = prob_gdp_given_condition / prob_condition\n",
    "\n",
    "print(f\"The probability of having GDP over $10,000 given at least 5 hospital beds per 1000 inhabitants is: {conditional_probability:.2%}\")"
   ]
  }
 ],
 "metadata": {
  "kernelspec": {
   "display_name": "venv",
   "language": "python",
   "name": "python3"
  },
  "language_info": {
   "codemirror_mode": {
    "name": "ipython",
    "version": 3
   },
   "file_extension": ".py",
   "mimetype": "text/x-python",
   "name": "python",
   "nbconvert_exporter": "python",
   "pygments_lexer": "ipython3",
   "version": "3.12.0"
  }
 },
 "nbformat": 4,
 "nbformat_minor": 2
}
