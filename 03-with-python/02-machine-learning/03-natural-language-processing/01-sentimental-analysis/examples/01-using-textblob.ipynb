{
 "cells": [
  {
   "cell_type": "code",
   "execution_count": 1,
   "metadata": {},
   "outputs": [
    {
     "ename": "ModuleNotFoundError",
     "evalue": "No module named 'textblob'",
     "output_type": "error",
     "traceback": [
      "\u001b[1;31m---------------------------------------------------------------------------\u001b[0m",
      "\u001b[1;31mModuleNotFoundError\u001b[0m                       Traceback (most recent call last)",
      "Cell \u001b[1;32mIn[1], line 1\u001b[0m\n\u001b[1;32m----> 1\u001b[0m \u001b[38;5;28;01mfrom\u001b[39;00m \u001b[38;5;21;01mtextblob\u001b[39;00m \u001b[38;5;28;01mimport\u001b[39;00m TextBlob\n",
      "\u001b[1;31mModuleNotFoundError\u001b[0m: No module named 'textblob'"
     ]
    }
   ],
   "source": [
    "from textblob import TextBlob"
   ]
  },
  {
   "cell_type": "code",
   "execution_count": 2,
   "metadata": {},
   "outputs": [
    {
     "ename": "NameError",
     "evalue": "name 'TextBlob' is not defined",
     "output_type": "error",
     "traceback": [
      "\u001b[1;31m---------------------------------------------------------------------------\u001b[0m",
      "\u001b[1;31mNameError\u001b[0m                                 Traceback (most recent call last)",
      "Cell \u001b[1;32mIn[2], line 5\u001b[0m\n\u001b[0;32m      2\u001b[0m text_2 \u001b[38;5;241m=\u001b[39m \u001b[38;5;124m\"\u001b[39m\u001b[38;5;124mThe food here tastes terrible.\u001b[39m\u001b[38;5;124m\"\u001b[39m\n\u001b[0;32m      4\u001b[0m \u001b[38;5;66;03m#Determining the Polarity \u001b[39;00m\n\u001b[1;32m----> 5\u001b[0m p_1 \u001b[38;5;241m=\u001b[39m \u001b[43mTextBlob\u001b[49m(text_1)\u001b[38;5;241m.\u001b[39msentiment\u001b[38;5;241m.\u001b[39mpolarity\n\u001b[0;32m      6\u001b[0m p_2 \u001b[38;5;241m=\u001b[39m TextBlob(text_2)\u001b[38;5;241m.\u001b[39msentiment\u001b[38;5;241m.\u001b[39mpolarity\n\u001b[0;32m      8\u001b[0m \u001b[38;5;66;03m#Determining the Subjectivity\u001b[39;00m\n",
      "\u001b[1;31mNameError\u001b[0m: name 'TextBlob' is not defined"
     ]
    }
   ],
   "source": [
    "text_1 = \"The movie was so awesome.\"\n",
    "text_2 = \"The food here tastes terrible.\"\n",
    "\n",
    "#Determining the Polarity \n",
    "p_1 = TextBlob(text_1).sentiment.polarity\n",
    "p_2 = TextBlob(text_2).sentiment.polarity\n",
    "\n",
    "#Determining the Subjectivity\n",
    "s_1 = TextBlob(text_1).sentiment.subjectivity\n",
    "s_2 = TextBlob(text_2).sentiment.subjectivity\n",
    "\n",
    "print(\"Polarity of Text 1 is\", p_1)\n",
    "print(\"Polarity of Text 2 is\", p_2)\n",
    "print(\"Subjectivity of Text 1 is\", s_1)\n",
    "print(\"Subjectivity of Text 2 is\", s_2)"
   ]
  },
  {
   "cell_type": "code",
   "execution_count": null,
   "metadata": {},
   "outputs": [],
   "source": []
  }
 ],
 "metadata": {
  "kernelspec": {
   "display_name": "venv",
   "language": "python",
   "name": "python3"
  },
  "language_info": {
   "codemirror_mode": {
    "name": "ipython",
    "version": 3
   },
   "file_extension": ".py",
   "mimetype": "text/x-python",
   "name": "python",
   "nbconvert_exporter": "python",
   "pygments_lexer": "ipython3",
   "version": "3.12.5"
  }
 },
 "nbformat": 4,
 "nbformat_minor": 2
}
