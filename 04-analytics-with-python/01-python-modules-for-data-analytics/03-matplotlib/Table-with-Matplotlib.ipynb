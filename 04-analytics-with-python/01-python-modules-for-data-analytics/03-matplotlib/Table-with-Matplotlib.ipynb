{
 "cells": [
  {
   "attachments": {},
   "cell_type": "markdown",
   "metadata": {},
   "source": [
    "# Table with Matplotlib"
   ]
  },
  {
   "cell_type": "code",
   "execution_count": 8,
   "metadata": {},
   "outputs": [],
   "source": [
    "import pandas as pd\n",
    "import seaborn as sns\n",
    "import matplotlib.pyplot as plt\n",
    "# Setting seaborn as default style even if use only matplotlib\n",
    "sns.set()"
   ]
  },
  {
   "attachments": {},
   "cell_type": "markdown",
   "metadata": {},
   "source": [
    "## Example 1: Simple Table"
   ]
  },
  {
   "cell_type": "code",
   "execution_count": 11,
   "metadata": {},
   "outputs": [
    {
     "data": {
      "image/png": "[encoded data removed]",
      "text/plain": [
       "<Figure size 640x480 with 1 Axes>"
      ]
     },
     "metadata": {},
     "output_type": "display_data"
    }
   ],
   "source": [
    "data = [[1, 2, 3, 4, 5],\n",
    "        [10,20,30,40,50],\n",
    "        [11,21,31,41,51]]\n",
    "\n",
    "plt.table(data, loc='center', colLabels=['A','B','C','D','E'])\n",
    "\n",
    "plt.show()"
   ]
  },
  {
   "attachments": {},
   "cell_type": "markdown",
   "metadata": {},
   "source": [
    "## Example 2: Using Pandas DataFrames"
   ]
  },
  {
   "attachments": {},
   "cell_type": "markdown",
   "metadata": {},
   "source": [
    "### Datasets for Visualizations"
   ]
  },
  {
   "cell_type": "code",
   "execution_count": 15,
   "metadata": {},
   "outputs": [],
   "source": [
    "# url 1\n",
    "grouped_country_df_url = \"https://raw.githubusercontent.com/nyangweso-rodgers/Data_Analytics/main/Analytics-with-Python/Exploratory-Data-Analysis-with-Python/Exploratory-Data-Analysis-for-Online-Retail-Store/grouped_country_data.csv\"\n",
    "grouped_country_df = pd.read_csv(grouped_country_df_url)\n",
    "\n",
    "# url 2\n",
    "grouped_daily_country_df_url = \"https://raw.githubusercontent.com/nyangweso-rodgers/Data_Analytics/main/Analytics-with-Python/Exploratory-Data-Analysis-with-Python/Exploratory-Data-Analysis-for-Online-Retail-Store/grouped_daily_country_df.csv\"\n",
    "grouped_daily_country_df = pd.read_csv(grouped_daily_country_df_url)"
   ]
  },
  {
   "cell_type": "code",
   "execution_count": 16,
   "metadata": {},
   "outputs": [
    {
     "data": {
      "text/html": [
       "<div>\n",
       "<style scoped>\n",
       "    .dataframe tbody tr th:only-of-type {\n",
       "        vertical-align: middle;\n",
       "    }\n",
       "\n",
       "    .dataframe tbody tr th {\n",
       "        vertical-align: top;\n",
       "    }\n",
       "\n",
       "    .dataframe thead th {\n",
       "        text-align: right;\n",
       "    }\n",
       "</style>\n",
       "<table border=\"1\" class=\"dataframe\">\n",
       "  <thead>\n",
       "    <tr style=\"text-align: right;\">\n",
       "      <th></th>\n",
       "      <th>Country</th>\n",
       "      <th>CountOfUniqueCustomers</th>\n",
       "      <th>TotalAmount</th>\n",
       "      <th>CountOfUniqueInvoices</th>\n",
       "      <th>AverageSalesValue</th>\n",
       "    </tr>\n",
       "  </thead>\n",
       "  <tbody>\n",
       "    <tr>\n",
       "      <th>0</th>\n",
       "      <td>Australia</td>\n",
       "      <td>9</td>\n",
       "      <td>138521.31</td>\n",
       "      <td>57</td>\n",
       "      <td>15391.256667</td>\n",
       "    </tr>\n",
       "    <tr>\n",
       "      <th>1</th>\n",
       "      <td>Austria</td>\n",
       "      <td>11</td>\n",
       "      <td>10198.68</td>\n",
       "      <td>17</td>\n",
       "      <td>927.152727</td>\n",
       "    </tr>\n",
       "    <tr>\n",
       "      <th>2</th>\n",
       "      <td>Bahrain</td>\n",
       "      <td>2</td>\n",
       "      <td>548.40</td>\n",
       "      <td>2</td>\n",
       "      <td>274.200000</td>\n",
       "    </tr>\n",
       "    <tr>\n",
       "      <th>3</th>\n",
       "      <td>Belgium</td>\n",
       "      <td>25</td>\n",
       "      <td>41196.34</td>\n",
       "      <td>98</td>\n",
       "      <td>1647.853600</td>\n",
       "    </tr>\n",
       "    <tr>\n",
       "      <th>4</th>\n",
       "      <td>Brazil</td>\n",
       "      <td>1</td>\n",
       "      <td>1143.60</td>\n",
       "      <td>1</td>\n",
       "      <td>1143.600000</td>\n",
       "    </tr>\n",
       "  </tbody>\n",
       "</table>\n",
       "</div>"
      ],
      "text/plain": [
       "     Country  CountOfUniqueCustomers  TotalAmount  CountOfUniqueInvoices  \\\n",
       "0  Australia                       9    138521.31                     57   \n",
       "1    Austria                      11     10198.68                     17   \n",
       "2    Bahrain                       2       548.40                      2   \n",
       "3    Belgium                      25     41196.34                     98   \n",
       "4     Brazil                       1      1143.60                      1   \n",
       "\n",
       "   AverageSalesValue  \n",
       "0       15391.256667  \n",
       "1         927.152727  \n",
       "2         274.200000  \n",
       "3        1647.853600  \n",
       "4        1143.600000  "
      ]
     },
     "execution_count": 16,
     "metadata": {},
     "output_type": "execute_result"
    }
   ],
   "source": [
    "# preview the data\n",
    "grouped_country_df.head()"
   ]
  },
  {
   "cell_type": "code",
   "execution_count": 17,
   "metadata": {},
   "outputs": [
    {
     "data": {
      "text/html": [
       "<div>\n",
       "<style scoped>\n",
       "    .dataframe tbody tr th:only-of-type {\n",
       "        vertical-align: middle;\n",
       "    }\n",
       "\n",
       "    .dataframe tbody tr th {\n",
       "        vertical-align: top;\n",
       "    }\n",
       "\n",
       "    .dataframe thead th {\n",
       "        text-align: right;\n",
       "    }\n",
       "</style>\n",
       "<table border=\"1\" class=\"dataframe\">\n",
       "  <thead>\n",
       "    <tr style=\"text-align: right;\">\n",
       "      <th></th>\n",
       "      <th>Date</th>\n",
       "      <th>Country</th>\n",
       "      <th>MonthYear</th>\n",
       "      <th>TotalAmount</th>\n",
       "      <th>CountOfUniqueInvoices</th>\n",
       "      <th>CountOfUniqueCustomers</th>\n",
       "    </tr>\n",
       "  </thead>\n",
       "  <tbody>\n",
       "    <tr>\n",
       "      <th>0</th>\n",
       "      <td>2010-12-01</td>\n",
       "      <td>Australia</td>\n",
       "      <td>2010-12</td>\n",
       "      <td>358.25</td>\n",
       "      <td>1</td>\n",
       "      <td>1</td>\n",
       "    </tr>\n",
       "    <tr>\n",
       "      <th>1</th>\n",
       "      <td>2010-12-01</td>\n",
       "      <td>EIRE</td>\n",
       "      <td>2010-12</td>\n",
       "      <td>555.38</td>\n",
       "      <td>2</td>\n",
       "      <td>1</td>\n",
       "    </tr>\n",
       "    <tr>\n",
       "      <th>2</th>\n",
       "      <td>2010-12-01</td>\n",
       "      <td>France</td>\n",
       "      <td>2010-12</td>\n",
       "      <td>855.86</td>\n",
       "      <td>1</td>\n",
       "      <td>1</td>\n",
       "    </tr>\n",
       "    <tr>\n",
       "      <th>3</th>\n",
       "      <td>2010-12-01</td>\n",
       "      <td>Germany</td>\n",
       "      <td>2010-12</td>\n",
       "      <td>261.48</td>\n",
       "      <td>1</td>\n",
       "      <td>1</td>\n",
       "    </tr>\n",
       "    <tr>\n",
       "      <th>4</th>\n",
       "      <td>2010-12-01</td>\n",
       "      <td>Netherlands</td>\n",
       "      <td>2010-12</td>\n",
       "      <td>192.60</td>\n",
       "      <td>1</td>\n",
       "      <td>1</td>\n",
       "    </tr>\n",
       "  </tbody>\n",
       "</table>\n",
       "</div>"
      ],
      "text/plain": [
       "         Date      Country MonthYear  TotalAmount  CountOfUniqueInvoices  \\\n",
       "0  2010-12-01    Australia   2010-12       358.25                      1   \n",
       "1  2010-12-01         EIRE   2010-12       555.38                      2   \n",
       "2  2010-12-01       France   2010-12       855.86                      1   \n",
       "3  2010-12-01      Germany   2010-12       261.48                      1   \n",
       "4  2010-12-01  Netherlands   2010-12       192.60                      1   \n",
       "\n",
       "   CountOfUniqueCustomers  \n",
       "0                       1  \n",
       "1                       1  \n",
       "2                       1  \n",
       "3                       1  \n",
       "4                       1  "
      ]
     },
     "execution_count": 17,
     "metadata": {},
     "output_type": "execute_result"
    }
   ],
   "source": [
    "grouped_daily_country_df.head()"
   ]
  },
  {
   "attachments": {},
   "cell_type": "markdown",
   "metadata": {},
   "source": [
    "#### Data Aggregations for Visualizations"
   ]
  },
  {
   "cell_type": "code",
   "execution_count": 18,
   "metadata": {},
   "outputs": [],
   "source": [
    "# get month on month total sales value\n",
    "monthly_agg_df = grouped_daily_country_df.groupby('MonthYear').agg(\n",
    "    TotalAmount = pd.NamedAgg(column='TotalAmount', aggfunc='sum')\n",
    ").reset_index()\n",
    "\n",
    "# get month on month total sales value by Country\n",
    "country_monthly_agg_df = grouped_daily_country_df.groupby(['MonthYear', 'Country']).agg(\n",
    "    TotalAmount = pd.NamedAgg(column='TotalAmount', aggfunc='sum')\n",
    ")"
   ]
  },
  {
   "cell_type": "code",
   "execution_count": null,
   "metadata": {},
   "outputs": [],
   "source": []
  }
 ],
 "metadata": {
  "kernelspec": {
   "display_name": "venv",
   "language": "python",
   "name": "python3"
  },
  "language_info": {
   "codemirror_mode": {
    "name": "ipython",
    "version": 3
   },
   "file_extension": ".py",
   "mimetype": "text/x-python",
   "name": "python",
   "nbconvert_exporter": "python",
   "pygments_lexer": "ipython3",
   "version": "3.10.10"
  },
  "orig_nbformat": 4
 },
 "nbformat": 4,
 "nbformat_minor": 2
}
